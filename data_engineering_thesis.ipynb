{
  "nbformat": 4,
  "nbformat_minor": 0,
  "metadata": {
    "colab": {
      "provenance": [],
      "machine_shape": "hm",
      "gpuType": "A100"
    },
    "kernelspec": {
      "name": "python3",
      "display_name": "Python 3"
    },
    "language_info": {
      "name": "python"
    }
  },
  "cells": [
    {
      "cell_type": "code",
      "execution_count": null,
      "metadata": {
        "id": "4LwmAe0NSI4J",
        "colab": {
          "base_uri": "https://localhost:8080/"
        },
        "outputId": "a7e81b8d-9d8c-4730-a4e7-d70ac7aebd8f"
      },
      "outputs": [
        {
          "output_type": "stream",
          "name": "stdout",
          "text": [
            "Mounted at /content/drive\n"
          ]
        }
      ],
      "source": [
        "from google.colab import drive\n",
        "drive.mount('/content/drive')"
      ]
    },
    {
      "cell_type": "code",
      "source": [
        "import json\n",
        "import gzip\n",
        "import numpy as np\n",
        "import pandas as pd\n",
        "import seaborn as sns\n",
        "import matplotlib.pyplot as plt\n",
        "from collections import Counter\n",
        "import networkx as nx\n",
        "from statsmodels.tsa.seasonal import seasonal_decompose\n",
        "import collections\n",
        "import itertools\n",
        "import time\n",
        "import math"
      ],
      "metadata": {
        "id": "K4utAkQHW130"
      },
      "execution_count": null,
      "outputs": []
    },
    {
      "cell_type": "code",
      "source": [
        "meta_videogames = []\n",
        "with gzip.open('/content/drive/My Drive/meta_Video_Games.json.gz', 'r') as json_file:\n",
        "    for l in json_file:\n",
        "        meta_videogames.append(json.loads(l.strip()))"
      ],
      "metadata": {
        "id": "nfm_2T0XSLNo"
      },
      "execution_count": null,
      "outputs": []
    },
    {
      "cell_type": "code",
      "source": [
        "meta_videogames[0]"
      ],
      "metadata": {
        "colab": {
          "base_uri": "https://localhost:8080/"
        },
        "id": "CEb95QDgH3ae",
        "outputId": "e21f069b-c7c6-46e8-951f-3954c69ef29d"
      },
      "execution_count": null,
      "outputs": [
        {
          "output_type": "execute_result",
          "data": {
            "text/plain": [
              "{'category': ['Video Games', 'PC', 'Games'],\n",
              " 'tech1': '',\n",
              " 'description': [],\n",
              " 'fit': '',\n",
              " 'title': 'Reversi Sensory Challenger',\n",
              " 'also_buy': [],\n",
              " 'tech2': '',\n",
              " 'brand': 'Fidelity Electronics',\n",
              " 'feature': [],\n",
              " 'rank': ['>#2,623,937 in Toys &amp; Games (See Top 100 in Toys &amp; Games)',\n",
              "  '>#39,015 in Video Games &gt; PC Games'],\n",
              " 'also_view': [],\n",
              " 'main_cat': 'Toys &amp; Games',\n",
              " 'similar_item': '',\n",
              " 'date': '',\n",
              " 'price': '',\n",
              " 'asin': '0042000742',\n",
              " 'imageURL': ['https://images-na.ssl-images-amazon.com/images/I/31nTxlNh1OL._SS40_.jpg'],\n",
              " 'imageURLHighRes': ['https://images-na.ssl-images-amazon.com/images/I/31nTxlNh1OL.jpg']}"
            ]
          },
          "metadata": {},
          "execution_count": 7
        }
      ]
    },
    {
      "cell_type": "code",
      "source": [
        "videogames_data = []\n",
        "with gzip.open('/content/drive/My Drive/Video_Games.json.gz', 'r') as json_file:\n",
        "    for l in json_file:\n",
        "        videogames_data.append(json.loads(l.strip()))"
      ],
      "metadata": {
        "id": "I_Btl6_sSXQG"
      },
      "execution_count": null,
      "outputs": []
    },
    {
      "cell_type": "code",
      "source": [
        "videogames_data[0]"
      ],
      "metadata": {
        "colab": {
          "base_uri": "https://localhost:8080/"
        },
        "id": "sgac3ErEIF-3",
        "outputId": "bdb5e539-5196-414a-a6cd-bd2fde712ee0"
      },
      "execution_count": null,
      "outputs": [
        {
          "output_type": "execute_result",
          "data": {
            "text/plain": [
              "{'overall': 1.0,\n",
              " 'verified': True,\n",
              " 'reviewTime': '06 9, 2014',\n",
              " 'reviewerID': 'A21ROB4YDOZA5P',\n",
              " 'asin': '0439381673',\n",
              " 'reviewerName': 'Mary M. Clark',\n",
              " 'reviewText': 'I used to play this game years ago and loved it. I found this did not work on my computer even though it said it would work with Windows 7.',\n",
              " 'summary': 'Did not like this',\n",
              " 'unixReviewTime': 1402272000}"
            ]
          },
          "metadata": {},
          "execution_count": 8
        }
      ]
    },
    {
      "cell_type": "code",
      "source": [
        "data_df = pd.DataFrame(videogames_data)"
      ],
      "metadata": {
        "id": "lF2wrH8KImky"
      },
      "execution_count": null,
      "outputs": []
    },
    {
      "cell_type": "code",
      "source": [
        "meta_musical_instruments = []\n",
        "with gzip.open('/content/drive/My Drive/meta_Musical_Instruments.json.gz', 'r') as json_file:\n",
        "    for l in json_file:\n",
        "        meta_musical_instruments.append(json.loads(l.strip()))"
      ],
      "metadata": {
        "id": "ivFJQjSwSZsZ"
      },
      "execution_count": null,
      "outputs": []
    },
    {
      "cell_type": "code",
      "source": [
        "musical_instruments_data = []\n",
        "with gzip.open('/content/drive/My Drive/Musical_Instruments.json.gz', 'r') as json_file:\n",
        "    for l in json_file:\n",
        "        musical_instruments_data.append(json.loads(l.strip()))"
      ],
      "metadata": {
        "id": "an15kR_KSboO"
      },
      "execution_count": null,
      "outputs": []
    },
    {
      "cell_type": "code",
      "source": [
        "meta_appliances = []\n",
        "with gzip.open('/content/drive/My Drive/meta_Appliances.json.gz', 'r') as json_file:\n",
        "    for l in json_file:\n",
        "        meta_appliances.append(json.loads(l.strip()))"
      ],
      "metadata": {
        "id": "6AE5KOBOSd6a"
      },
      "execution_count": null,
      "outputs": []
    },
    {
      "cell_type": "code",
      "source": [
        "appliances_data = []\n",
        "with gzip.open('/content/drive/My Drive/Appliances.json.gz', 'r') as json_file:\n",
        "    for l in json_file:\n",
        "        appliances_data.append(json.loads(l.strip()))"
      ],
      "metadata": {
        "id": "ZUQL2cFgSgAG"
      },
      "execution_count": null,
      "outputs": []
    },
    {
      "cell_type": "markdown",
      "source": [
        "## **Data Engineering**"
      ],
      "metadata": {
        "id": "yzJnrY9rSs5i"
      }
    },
    {
      "cell_type": "code",
      "source": [
        "# Assume videogames_data, musical_instruments_data, etc. are lists of JSON objects/dictionaries\n",
        "data_list = videogames_data + musical_instruments_data + appliances_data\n",
        "meta_data_list = meta_videogames + meta_musical_instruments + meta_appliances\n",
        "\n",
        "# Convert the lists into dataframes\n",
        "data_df = pd.DataFrame(data_list)\n",
        "meta_data_df = pd.DataFrame(meta_data_list)\n",
        "\n",
        "# Select only the columns we are interested in\n",
        "data_df = data_df[['asin', 'overall', 'verified', 'reviewTime', 'reviewerID']]\n",
        "meta_data_df = meta_data_df[['asin', 'main_cat']]\n",
        "\n",
        "# Merge the dataframes on the 'asin' column\n",
        "merged_df = pd.merge(data_df, meta_data_df, on='asin', how='outer')\n",
        "\n",
        "# Reorder the columns as desired\n",
        "merged_df = merged_df[['asin',  'main_cat', 'overall', 'verified', 'reviewTime', 'reviewerID']]"
      ],
      "metadata": {
        "id": "bl5sa5maSrt6"
      },
      "execution_count": null,
      "outputs": []
    },
    {
      "cell_type": "code",
      "source": [
        "merged_df = merged_df.dropna()"
      ],
      "metadata": {
        "id": "qOAwFZNtSxZ-"
      },
      "execution_count": null,
      "outputs": []
    },
    {
      "cell_type": "markdown",
      "source": [
        "Reducing the size of the dataframe. We are only interested in 'Video Games', 'Musical Instruments', 'Gift Cards' and 'Appliances' categories"
      ],
      "metadata": {
        "id": "NS6kTfgoS9iL"
      }
    },
    {
      "cell_type": "code",
      "source": [
        "# Define the categories of interest\n",
        "categories_of_interest = ['Video Games', 'Musical Instruments', 'Appliances']#'Gift Cards', ]\n",
        "\n",
        "# Keep only rows where 'main_cat' is one of the categories of interest\n",
        "merged_df = merged_df[merged_df['main_cat'].isin(categories_of_interest)]\n",
        "\n",
        "# Convert the 'reviewTime' column to datetime format\n",
        "merged_df['reviewTime'] = pd.to_datetime(merged_df['reviewTime'], format=\"%m %d, %Y\")\n",
        "\n",
        "# To reduce the size of the dataset a little bit more, only keep reviews from 2016 until 2018\n",
        "# Filter the data for the desired time period\n",
        "start_date = pd.to_datetime('2016-09-01')\n",
        "end_date = pd.to_datetime('2018-09-30')\n",
        "time_dataset = merged_df[(merged_df['reviewTime'] >= start_date) & (merged_df['reviewTime'] <= end_date)]\n",
        "\n",
        "# Reset the index of the filtered dataframe\n",
        "time_dataset.reset_index(drop=True, inplace=True)"
      ],
      "metadata": {
        "id": "Vr2VQ0eWS87P"
      },
      "execution_count": null,
      "outputs": []
    },
    {
      "cell_type": "code",
      "source": [
        "# To reduce the size of the dataset a little bit more, only keep reviews from 2015 until 2018\n",
        "# Filter the data for the desired time period\n",
        "start_date = pd.to_datetime('2018-01-01')\n",
        "end_date = pd.to_datetime('2018-12-31')\n",
        "merged_df = merged_df[(merged_df['reviewTime'] >= start_date) & (merged_df['reviewTime'] <= end_date)]\n",
        "\n",
        "# Reset the index of the filtered dataframe\n",
        "merged_df.reset_index(drop=True, inplace=True)"
      ],
      "metadata": {
        "id": "J7_CeE4eTbjO"
      },
      "execution_count": null,
      "outputs": []
    },
    {
      "cell_type": "code",
      "source": [
        "merged_df.to_csv('/content/drive/MyDrive/merged_df.csv', index=False)"
      ],
      "metadata": {
        "id": "KDbtgBGLTjrH"
      },
      "execution_count": null,
      "outputs": []
    },
    {
      "cell_type": "code",
      "source": [
        "time_dataset.to_csv('/content/drive/MyDrive/time_dataset.csv', index=False)"
      ],
      "metadata": {
        "id": "ks9BlDkuTkdw"
      },
      "execution_count": null,
      "outputs": []
    }
  ]
}